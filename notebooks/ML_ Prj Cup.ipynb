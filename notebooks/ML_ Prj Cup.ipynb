{
 "cells": [
  {
   "cell_type": "markdown",
   "metadata": {},
   "source": [
    "# Cup Dataset ML- Prj by Simone, Luca, Maria"
   ]
  },
  {
   "cell_type": "markdown",
   "metadata": {},
   "source": [
    "## Importing modules and packages"
   ]
  },
  {
   "cell_type": "code",
   "execution_count": 1,
   "metadata": {},
   "outputs": [],
   "source": [
    "from typing import Tuple\n",
    "from mlprj.optimizers import StochasticGradientDescent\n",
    "from mlprj.datasets import *\n",
    "from mlprj.model_selection import *\n",
    "from mlprj.losses import *\n",
    "from mlprj.regularizers import *\n",
    "from mlprj.initializers import *\n",
    "from mlprj.feed_forward import Network, Layer\n",
    "from mlprj.utility import model_accuracy\n",
    "from mlprj.randomized_nn import *\n",
    "from sklearn.model_selection import train_test_split\n",
    "\n",
    "import numpy as np\n",
    "import pandas as pd\n",
    "import matplotlib.pyplot as plt\n",
    "import json"
   ]
  },
  {
   "cell_type": "markdown",
   "metadata": {},
   "source": [
    "## Dataset"
   ]
  },
  {
   "cell_type": "code",
   "execution_count": 2,
   "metadata": {},
   "outputs": [],
   "source": [
    "# Cup data\n",
    "cup_X, cup_y= read_cup()\n",
    "cup_train_x, cup_test_x, cup_train_y, cup_test_y = train_test_split(cup_X, cup_y, test_size=0.10, random_state=42)"
   ]
  },
  {
   "cell_type": "markdown",
   "metadata": {},
   "source": [
    "# Models"
   ]
  },
  {
   "cell_type": "code",
   "execution_count": 3,
   "metadata": {},
   "outputs": [],
   "source": [
    "def cup_build_model(learning_rate, alpha, lambdareg = 0):\n",
    "    nn = Network(10, [ \n",
    "        Layer(50, \"relu\", GaussianInitializer()),\n",
    "        Layer(20, \"sigmoid\", GaussianInitializer()),\n",
    "        Layer(10, \"relu\", GaussianInitializer()),\n",
    "        Layer(2, \"linear\", GaussianInitializer())\n",
    "      ])\n",
    "\n",
    "    nn.compile(loss=MSE(), regularizer=L2Regularizer(lambdareg), optimizer=StochasticGradientDescent(learning_rate, alpha))\n",
    "    return nn"
   ]
  },
  {
   "cell_type": "code",
   "execution_count": 4,
   "metadata": {},
   "outputs": [],
   "source": [
    "def randomized_nn_model_monk(units):\n",
    "    nn = RandomizedNetwork(10, [\n",
    "        RandomizedLayer(units, \"relu\"),\n",
    "        RandomizedLayer(1, \"linear\")\n",
    "    ])\n",
    "    \n",
    "    nn.compile(loss=MSE())\n",
    "    \n",
    "    return nn"
   ]
  },
  {
   "cell_type": "markdown",
   "metadata": {},
   "source": [
    "## Grid Search (classic)"
   ]
  },
  {
   "cell_type": "code",
   "execution_count": null,
   "metadata": {},
   "outputs": [
    {
     "name": "stdout",
     "output_type": "stream",
     "text": [
      "->  {'learning_rate:': 0.15, 'alpha:': 0.1, 'lambdareg:': 1e-05, 'epochs:': 500, 'batch_size:': 64}\n",
      "->  {'learning_rate:': 0.15, 'alpha:': 0.1, 'lambdareg:': 5e-05, 'epochs:': 500, 'batch_size:': 64}\n",
      "->  {'learning_rate:': 0.15, 'alpha:': 0.1, 'lambdareg:': 0.0001, 'epochs:': 500, 'batch_size:': 64}\n",
      "->  {'learning_rate:': 0.15, 'alpha:': 0.05, 'lambdareg:': 1e-05, 'epochs:': 500, 'batch_size:': 64}\n",
      "->  {'learning_rate:': 0.15, 'alpha:': 0.05, 'lambdareg:': 5e-05, 'epochs:': 500, 'batch_size:': 64}\n",
      "->  {'learning_rate:': 0.15, 'alpha:': 0.05, 'lambdareg:': 0.0001, 'epochs:': 500, 'batch_size:': 64}\n",
      "->  {'learning_rate:': 0.15, 'alpha:': 0.15, 'lambdareg:': 1e-05, 'epochs:': 500, 'batch_size:': 64}\n",
      "->  {'learning_rate:': 0.15, 'alpha:': 0.15, 'lambdareg:': 5e-05, 'epochs:': 500, 'batch_size:': 64}\n",
      "->  {'learning_rate:': 0.15, 'alpha:': 0.15, 'lambdareg:': 0.0001, 'epochs:': 500, 'batch_size:': 64}\n"
     ]
    }
   ],
   "source": [
    "cup_params = {\n",
    "    \"learning_rate:\": [0.15],\n",
    "    \"alpha:\": [0.1, 0.05, 0.15],\n",
    "    \"lambdareg:\": [0.00001, 0.00005, 0.0001],\n",
    "    \"epochs:\": [500],\n",
    "    \"batch_size:\": [64],    \n",
    "}\n",
    "cup_best_params = grid_search_cv(cup_build_model, (cup_train_x, cup_train_y), cup_params, k_folds = 5)\n",
    "cup_best_params_other, cup_best_params_training = split_train_params(cup_best_params, direct = False)\n",
    "print(cup_best_params_other, cup_best_params_training)"
   ]
  },
  {
   "cell_type": "markdown",
   "metadata": {},
   "source": [
    "## Training (classic)"
   ]
  },
  {
   "cell_type": "code",
   "execution_count": null,
   "metadata": {},
   "outputs": [],
   "source": [
    "model = cup_build_model(**cup_best_params_other)\n",
    "history = model.training((cup_train_x, cup_train_y), (cup_test_x, cup_test_y), **cup_best_params_training, verbose = True)\n",
    "\n",
    "plt.plot(history[\"loss_tr\"])\n",
    "plt.plot(history[\"loss_vl\"])\n",
    "plt.show()"
   ]
  },
  {
   "cell_type": "markdown",
   "metadata": {},
   "source": [
    "## Grid search (ELM)"
   ]
  },
  {
   "cell_type": "code",
   "execution_count": null,
   "metadata": {},
   "outputs": [],
   "source": [
    "cup_params = {\n",
    "    \"units\": [100, 200, 300, 400, 500, 600, 700, 800, 900, 1000],\n",
    "    \"lambda_\": [0.1, 1, 10, 20, 30, 40, 50, 60, 70, 80, 90, 100],\n",
    "}\n",
    "\n",
    "cup_best_params = grid_search_cv(cup_build_model, (cup_train_x, cup_train_y), cup_params, k_folds = 5)\n",
    "cup_best_params_other, cup_best_params_training = split_train_params(cup_best_params, direct = False)\n",
    "print(cup_best_params_other, cup_best_params_training)"
   ]
  },
  {
   "cell_type": "markdown",
   "metadata": {},
   "source": [
    "## Training (ELM)"
   ]
  },
  {
   "cell_type": "code",
   "execution_count": null,
   "metadata": {},
   "outputs": [],
   "source": [
    "model = randomized_nn_model_monk(1000)\n",
    "error_tr, error_vl = model.direct_training(((cup_train_x, cup_train_y), (cup_test_x, cup_test_y)), lambda_ = 0.1, verbose = True)"
   ]
  }
 ],
 "metadata": {
  "kernelspec": {
   "display_name": "Python 3",
   "language": "python",
   "name": "python3"
  },
  "language_info": {
   "codemirror_mode": {
    "name": "ipython",
    "version": 3
   },
   "file_extension": ".py",
   "mimetype": "text/x-python",
   "name": "python",
   "nbconvert_exporter": "python",
   "pygments_lexer": "ipython3",
   "version": "3.8.3"
  }
 },
 "nbformat": 4,
 "nbformat_minor": 4
}
