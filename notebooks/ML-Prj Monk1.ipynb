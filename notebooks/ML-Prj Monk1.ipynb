{
 "cells": [
  {
   "cell_type": "markdown",
   "id": "118bc6df",
   "metadata": {},
   "source": [
    "# Monk 1 Dataset ML- Prj by Simone, Luca, Maria"
   ]
  },
  {
   "cell_type": "markdown",
   "id": "b2c2a4a2",
   "metadata": {},
   "source": [
    "## Importing necessary modules"
   ]
  },
  {
   "cell_type": "code",
   "execution_count": 23,
   "id": "7ce0d929",
   "metadata": {},
   "outputs": [],
   "source": [
    "from typing import Tuple\n",
    "from mlprj.optimizers import StochasticGradientDescent\n",
    "from mlprj.datasets import *\n",
    "from mlprj.model_selection import *\n",
    "from mlprj.losses import *\n",
    "from mlprj.regularizers import *\n",
    "from mlprj.initializers import *\n",
    "from mlprj.feed_forward import Network, Layer\n",
    "from mlprj.utility import model_accuracy\n",
    "from mlprj.randomized_nn import *\n",
    "\n",
    "from sklearn.model_selection import train_test_split\n",
    "\n",
    "import numpy as np\n",
    "import pandas as pd\n",
    "import matplotlib.pyplot as plt\n",
    "import json"
   ]
  },
  {
   "cell_type": "markdown",
   "id": "12f7e8bf",
   "metadata": {},
   "source": [
    "## Dataset"
   ]
  },
  {
   "cell_type": "code",
   "execution_count": 24,
   "id": "d7a0ac74",
   "metadata": {},
   "outputs": [],
   "source": [
    "monk_1_X, monk_1_test_x, monk_1_y, monk_1_test_y = read_monk(1)"
   ]
  },
  {
   "cell_type": "markdown",
   "id": "0a57cb4c",
   "metadata": {},
   "source": [
    "# Models"
   ]
  },
  {
   "cell_type": "code",
   "execution_count": 1,
   "id": "64f189a5",
   "metadata": {},
   "outputs": [],
   "source": [
    "def monk_1_build_model(learning_rate, alpha):\n",
    "    nn = Network(17, [\n",
    "        Layer(5, \"relu\", UniformInitializer(min_value=-0.1, max_value=0.1)),\n",
    "        Layer(1, \"sigmoid\", UniformInitializer(min_value=-0.1, max_value=0.1))\n",
    "    ])\n",
    "\n",
    "    nn.compile(loss=MSE(), regularizer=L2Regularizer(0), optimizer=StochasticGradientDescent(learning_rate, alpha))\n",
    "\n",
    "    return nn\n",
    "\n",
    "def randomized_nn_model_monk(units):\n",
    "    nn = RandomizedNetwork(17, [\n",
    "        RandomizedLayer(units, \"relu\"),\n",
    "        RandomizedLayer(1, \"linear\"),\n",
    "        ])\n",
    "    nn.compile(loss = MSE())\n",
    "    \n",
    "    return nn"
   ]
  },
  {
   "cell_type": "markdown",
   "id": "75fdc279",
   "metadata": {},
   "source": [
    "## Grid Search (classic)"
   ]
  },
  {
   "cell_type": "code",
   "execution_count": null,
   "id": "db1f4d30",
   "metadata": {
    "scrolled": false
   },
   "outputs": [],
   "source": [
    "monk_1_params = {\n",
    "    \"learning_rate\": [0.7, 0.8],\n",
    "    \"alpha\": [0.4, 0.5, 0.6, 0.7, 0.8, 0.9],\n",
    "    \"epochs\": 500,\n",
    "    \"batch_size\": \"full\"\n",
    "}\n",
    "\n",
    "monk_1_best_params = grid_search_cv(monk_1_build_model, (monk_1_X, monk_1_y), monk_1_params)\n",
    "monk_1_best_params_other, monk_1_best_params_training = split_train_params(monk_1_best_params)\n",
    "print(monk_1_best_params_other, monk_1_best_params_training)"
   ]
  },
  {
   "cell_type": "markdown",
   "id": "889b26cc",
   "metadata": {},
   "source": [
    "## Training (classic)"
   ]
  },
  {
   "cell_type": "code",
   "execution_count": null,
   "id": "4c170829",
   "metadata": {},
   "outputs": [],
   "source": [
    "model = monk_1_build_model(**monk_1_best_params_other)\n",
    "history = model.training((monk_1_X, monk_1_y), epochs=500, batch_size=\"full\", verbose = True)\n",
    "\n",
    "plt.plot(history[\"loss_tr\"])\n",
    "plt.plot(history[\"loss_vl\"])\n",
    "plt.show()"
   ]
  },
  {
   "cell_type": "markdown",
   "id": "7dd03d9f",
   "metadata": {},
   "source": [
    "## Accuracy (classic)"
   ]
  },
  {
   "cell_type": "code",
   "execution_count": null,
   "id": "7221fe95",
   "metadata": {},
   "outputs": [],
   "source": [
    "print(f\"training accuracy: {model_accuracy(model, monk_1_X, monk_1_y)}\")\n",
    "print(f\"test accuracy: {model_accuracy(model, monk_1_test_x, monk_1_test_y)}\")"
   ]
  },
  {
   "cell_type": "markdown",
   "id": "2d4aed0f",
   "metadata": {},
   "source": [
    "## Grid Search (ELM)"
   ]
  },
  {
   "cell_type": "code",
   "execution_count": null,
   "id": "578e8012",
   "metadata": {},
   "outputs": [],
   "source": [
    "monk_1_params = {\n",
    "    \"units\": [2750, 3000, 3250],\n",
    "    \"lambda_\": [0.01, 0.1, 1],\n",
    "    }\n",
    "\n",
    "monk_1_best_params = grid_search_cv(randomized_nn_model_monk, (monk_1_X, monk_1_y), monk_1_params, k_folds = 5, direct = True)\n",
    "monk_1_best_params_other, monk_1_best_params_training = split_train_params(monk_1_best_params, direct = True)\n",
    "print(monk_1_best_params_other, monk_1_best_params_training)"
   ]
  },
  {
   "cell_type": "markdown",
   "id": "a54dd72c",
   "metadata": {},
   "source": [
    "## Training (ELM)"
   ]
  },
  {
   "cell_type": "code",
   "execution_count": null,
   "id": "353f1ff7",
   "metadata": {},
   "outputs": [],
   "source": [
    "model = randomized_nn_model_monk(300)\n",
    "error_tr, error_vl = model.direct_training((monk_1_X, monk_1_y), lambda_ = 0.1, verbose = True)"
   ]
  },
  {
   "cell_type": "markdown",
   "id": "e0097377",
   "metadata": {},
   "source": [
    "## Accuracy (ELM)"
   ]
  },
  {
   "cell_type": "code",
   "execution_count": null,
   "id": "66e9791e",
   "metadata": {},
   "outputs": [],
   "source": [
    "print(f\"training accuracy: {model_accuracy(model, monk_1_X, monk_1_y, threshold = 0.5)}\")\n",
    "print(f\"test accuracy: {model_accuracy(model, monk_1_test_x, monk_1_test_y, threshold = 0.5)}\")"
   ]
  }
 ],
 "metadata": {
  "kernelspec": {
   "display_name": "Python 3 (ipykernel)",
   "language": "python",
   "name": "python3"
  },
  "language_info": {
   "codemirror_mode": {
    "name": "ipython",
    "version": 3
   },
   "file_extension": ".py",
   "mimetype": "text/x-python",
   "name": "python",
   "nbconvert_exporter": "python",
   "pygments_lexer": "ipython3",
   "version": "3.9.7"
  }
 },
 "nbformat": 4,
 "nbformat_minor": 5
}
