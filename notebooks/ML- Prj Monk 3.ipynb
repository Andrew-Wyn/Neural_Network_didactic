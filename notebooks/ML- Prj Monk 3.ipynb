{
 "cells": [
  {
   "cell_type": "markdown",
   "metadata": {},
   "source": [
    "# Monk 3 Dataset ML- Prj by Simone, Luca, Maria"
   ]
  },
  {
   "cell_type": "markdown",
   "metadata": {},
   "source": [
    "## Importing modules and packages"
   ]
  },
  {
   "cell_type": "code",
   "execution_count": 12,
   "metadata": {},
   "outputs": [],
   "source": [
    "from typing import Tuple\n",
    "from mlprj.optimizers import StochasticGradientDescent\n",
    "from mlprj.datasets import *\n",
    "from mlprj.model_selection import *\n",
    "from mlprj.losses import *\n",
    "from mlprj.regularizers import *\n",
    "from mlprj.initializers import *\n",
    "from mlprj.feed_forward import Network, Layer\n",
    "from mlprj.utility import model_accuracy\n",
    "from mlprj.randomized_nn import *\n",
    "from sklearn.model_selection import train_test_split\n",
    "\n",
    "\n",
    "import numpy as np\n",
    "import pandas as pd\n",
    "import matplotlib.pyplot as plt\n",
    "import json"
   ]
  },
  {
   "cell_type": "markdown",
   "metadata": {},
   "source": [
    "## Dataset"
   ]
  },
  {
   "cell_type": "code",
   "execution_count": 20,
   "metadata": {},
   "outputs": [],
   "source": [
    "# Monk-1 datas\n",
    "monk_3_X, monk_3_test_x, monk_3_y, monk_3_test_y = read_monk(3)"
   ]
  },
  {
   "cell_type": "markdown",
   "metadata": {},
   "source": [
    "# Models"
   ]
  },
  {
   "cell_type": "code",
   "execution_count": 16,
   "metadata": {},
   "outputs": [],
   "source": [
    "def monk_3_build_model(learning_rate, alpha, lambdareg = 0):\n",
    "    nn = Network(17, [\n",
    "        Layer(16, \"relu\", GaussianInitializer()),\n",
    "        Layer(8, \"relu\", GaussianInitializer()),\n",
    "        Layer(4, \"relu\", GaussianInitializer()),\n",
    "        Layer(1, \"sigmoid\", GaussianInitializer())\n",
    "    ])\n",
    "\n",
    "    nn.compile(loss=MSE(), regularizer=L2Regularizer(lambdareg), optimizer=StochasticGradientDescent(learning_rate, alpha))\n",
    "\n",
    "    return nn"
   ]
  },
  {
   "cell_type": "code",
   "execution_count": 17,
   "metadata": {},
   "outputs": [],
   "source": [
    "def randomized_nn_model_monk(units):\n",
    "    nn = RandomizedNetwork(17, [\n",
    "        RandomizedLayer(units, \"relu\"),\n",
    "        RandomizedLayer(1, \"linear\")\n",
    "    ])\n",
    "    \n",
    "    nn.compile(loss=MSE())\n",
    "    \n",
    "    return nn"
   ]
  },
  {
   "cell_type": "markdown",
   "metadata": {},
   "source": [
    "## Grid Search (classic)"
   ]
  },
  {
   "cell_type": "code",
   "execution_count": null,
   "metadata": {},
   "outputs": [
    {
     "name": "stdout",
     "output_type": "stream",
     "text": [
      "->  {'learning_rate': 0.1, 'alpha': 0.1, 'lambdareg': 0}\n",
      "->  {'learning_rate': 0.1, 'alpha': 0.1, 'lambdareg': 0.0001}\n",
      "->  {'learning_rate': 0.1, 'alpha': 0.1, 'lambdareg': 0.001}\n",
      "->  {'learning_rate': 0.1, 'alpha': 0.2, 'lambdareg': 0}\n",
      "->  {'learning_rate': 0.1, 'alpha': 0.2, 'lambdareg': 0.0001}\n",
      "->  {'learning_rate': 0.1, 'alpha': 0.2, 'lambdareg': 0.001}\n",
      "->  {'learning_rate': 0.1, 'alpha': 0.3, 'lambdareg': 0}\n",
      "->  {'learning_rate': 0.1, 'alpha': 0.3, 'lambdareg': 0.0001}\n",
      "->  {'learning_rate': 0.1, 'alpha': 0.3, 'lambdareg': 0.001}\n",
      "->  {'learning_rate': 0.1, 'alpha': 0.4, 'lambdareg': 0}\n",
      "->  {'learning_rate': 0.1, 'alpha': 0.4, 'lambdareg': 0.0001}\n",
      "->  {'learning_rate': 0.1, 'alpha': 0.4, 'lambdareg': 0.001}\n",
      "->  {'learning_rate': 0.1, 'alpha': 0.5, 'lambdareg': 0}\n",
      "->  {'learning_rate': 0.1, 'alpha': 0.5, 'lambdareg': 0.0001}\n",
      "->  {'learning_rate': 0.1, 'alpha': 0.5, 'lambdareg': 0.001}\n",
      "->  {'learning_rate': 0.2, 'alpha': 0.1, 'lambdareg': 0}\n",
      "->  {'learning_rate': 0.2, 'alpha': 0.1, 'lambdareg': 0.0001}\n",
      "->  {'learning_rate': 0.2, 'alpha': 0.1, 'lambdareg': 0.001}\n",
      "->  {'learning_rate': 0.2, 'alpha': 0.2, 'lambdareg': 0}\n",
      "->  {'learning_rate': 0.2, 'alpha': 0.2, 'lambdareg': 0.0001}\n",
      "->  {'learning_rate': 0.2, 'alpha': 0.2, 'lambdareg': 0.001}\n",
      "->  {'learning_rate': 0.2, 'alpha': 0.3, 'lambdareg': 0}\n",
      "->  {'learning_rate': 0.2, 'alpha': 0.3, 'lambdareg': 0.0001}\n",
      "->  {'learning_rate': 0.2, 'alpha': 0.3, 'lambdareg': 0.001}\n",
      "->  {'learning_rate': 0.2, 'alpha': 0.4, 'lambdareg': 0}\n",
      "->  {'learning_rate': 0.2, 'alpha': 0.4, 'lambdareg': 0.0001}\n",
      "->  {'learning_rate': 0.2, 'alpha': 0.4, 'lambdareg': 0.001}\n",
      "->  {'learning_rate': 0.2, 'alpha': 0.5, 'lambdareg': 0}\n",
      "->  {'learning_rate': 0.2, 'alpha': 0.5, 'lambdareg': 0.0001}\n",
      "->  {'learning_rate': 0.2, 'alpha': 0.5, 'lambdareg': 0.001}\n",
      "->  {'learning_rate': 0.3, 'alpha': 0.1, 'lambdareg': 0}\n",
      "->  {'learning_rate': 0.3, 'alpha': 0.1, 'lambdareg': 0.0001}\n",
      "->  {'learning_rate': 0.3, 'alpha': 0.1, 'lambdareg': 0.001}\n",
      "->  {'learning_rate': 0.3, 'alpha': 0.2, 'lambdareg': 0}\n",
      "->  {'learning_rate': 0.3, 'alpha': 0.2, 'lambdareg': 0.0001}\n",
      "->  {'learning_rate': 0.3, 'alpha': 0.2, 'lambdareg': 0.001}\n",
      "->  {'learning_rate': 0.3, 'alpha': 0.3, 'lambdareg': 0}\n",
      "->  {'learning_rate': 0.3, 'alpha': 0.3, 'lambdareg': 0.0001}\n",
      "->  {'learning_rate': 0.3, 'alpha': 0.3, 'lambdareg': 0.001}\n",
      "->  {'learning_rate': 0.3, 'alpha': 0.4, 'lambdareg': 0}\n",
      "->  {'learning_rate': 0.3, 'alpha': 0.4, 'lambdareg': 0.0001}\n",
      "->  {'learning_rate': 0.3, 'alpha': 0.4, 'lambdareg': 0.001}\n",
      "->  {'learning_rate': 0.3, 'alpha': 0.5, 'lambdareg': 0}\n",
      "->  {'learning_rate': 0.3, 'alpha': 0.5, 'lambdareg': 0.0001}\n",
      "->  {'learning_rate': 0.3, 'alpha': 0.5, 'lambdareg': 0.001}\n",
      "->  {'learning_rate': 0.4, 'alpha': 0.1, 'lambdareg': 0}\n",
      "->  {'learning_rate': 0.4, 'alpha': 0.1, 'lambdareg': 0.0001}\n",
      "->  {'learning_rate': 0.4, 'alpha': 0.1, 'lambdareg': 0.001}\n",
      "->  {'learning_rate': 0.4, 'alpha': 0.2, 'lambdareg': 0}\n",
      "->  {'learning_rate': 0.4, 'alpha': 0.2, 'lambdareg': 0.0001}\n",
      "->  {'learning_rate': 0.4, 'alpha': 0.2, 'lambdareg': 0.001}\n",
      "->  {'learning_rate': 0.4, 'alpha': 0.3, 'lambdareg': 0}\n",
      "->  {'learning_rate': 0.4, 'alpha': 0.3, 'lambdareg': 0.0001}\n",
      "->  {'learning_rate': 0.4, 'alpha': 0.3, 'lambdareg': 0.001}\n",
      "->  {'learning_rate': 0.4, 'alpha': 0.4, 'lambdareg': 0}\n",
      "->  {'learning_rate': 0.4, 'alpha': 0.4, 'lambdareg': 0.0001}\n",
      "->  {'learning_rate': 0.4, 'alpha': 0.4, 'lambdareg': 0.001}\n",
      "->  {'learning_rate': 0.4, 'alpha': 0.5, 'lambdareg': 0}\n",
      "->  {'learning_rate': 0.4, 'alpha': 0.5, 'lambdareg': 0.0001}\n",
      "->  {'learning_rate': 0.4, 'alpha': 0.5, 'lambdareg': 0.001}\n",
      "->  {'learning_rate': 0.5, 'alpha': 0.1, 'lambdareg': 0}\n",
      "->  {'learning_rate': 0.5, 'alpha': 0.1, 'lambdareg': 0.0001}\n",
      "->  {'learning_rate': 0.5, 'alpha': 0.1, 'lambdareg': 0.001}\n",
      "->  {'learning_rate': 0.5, 'alpha': 0.2, 'lambdareg': 0}\n",
      "->  {'learning_rate': 0.5, 'alpha': 0.2, 'lambdareg': 0.0001}\n",
      "->  {'learning_rate': 0.5, 'alpha': 0.2, 'lambdareg': 0.001}\n",
      "->  {'learning_rate': 0.5, 'alpha': 0.3, 'lambdareg': 0}\n",
      "->  {'learning_rate': 0.5, 'alpha': 0.3, 'lambdareg': 0.0001}\n",
      "->  {'learning_rate': 0.5, 'alpha': 0.3, 'lambdareg': 0.001}\n",
      "->  {'learning_rate': 0.5, 'alpha': 0.4, 'lambdareg': 0}\n",
      "->  {'learning_rate': 0.5, 'alpha': 0.4, 'lambdareg': 0.0001}\n",
      "->  {'learning_rate': 0.5, 'alpha': 0.4, 'lambdareg': 0.001}\n",
      "->  {'learning_rate': 0.5, 'alpha': 0.5, 'lambdareg': 0}\n",
      "->  {'learning_rate': 0.5, 'alpha': 0.5, 'lambdareg': 0.0001}\n",
      "->  {'learning_rate': 0.5, 'alpha': 0.5, 'lambdareg': 0.001}\n",
      "->  {'learning_rate': 0.6, 'alpha': 0.1, 'lambdareg': 0}\n",
      "->  {'learning_rate': 0.6, 'alpha': 0.1, 'lambdareg': 0.0001}\n",
      "->  {'learning_rate': 0.6, 'alpha': 0.1, 'lambdareg': 0.001}\n",
      "->  {'learning_rate': 0.6, 'alpha': 0.2, 'lambdareg': 0}\n",
      "->  {'learning_rate': 0.6, 'alpha': 0.2, 'lambdareg': 0.0001}\n",
      "->  {'learning_rate': 0.6, 'alpha': 0.2, 'lambdareg': 0.001}\n",
      "->  {'learning_rate': 0.6, 'alpha': 0.3, 'lambdareg': 0}\n",
      "->  {'learning_rate': 0.6, 'alpha': 0.3, 'lambdareg': 0.0001}\n",
      "->  {'learning_rate': 0.6, 'alpha': 0.3, 'lambdareg': 0.001}\n",
      "->  {'learning_rate': 0.6, 'alpha': 0.4, 'lambdareg': 0}\n",
      "->  {'learning_rate': 0.6, 'alpha': 0.4, 'lambdareg': 0.0001}\n",
      "->  {'learning_rate': 0.6, 'alpha': 0.4, 'lambdareg': 0.001}\n",
      "->  {'learning_rate': 0.6, 'alpha': 0.5, 'lambdareg': 0}\n",
      "->  {'learning_rate': 0.6, 'alpha': 0.5, 'lambdareg': 0.0001}\n",
      "->  {'learning_rate': 0.6, 'alpha': 0.5, 'lambdareg': 0.001}\n",
      "->  {'learning_rate': 0.7, 'alpha': 0.1, 'lambdareg': 0}\n",
      "->  {'learning_rate': 0.7, 'alpha': 0.1, 'lambdareg': 0.0001}\n",
      "->  {'learning_rate': 0.7, 'alpha': 0.1, 'lambdareg': 0.001}\n",
      "->  {'learning_rate': 0.7, 'alpha': 0.2, 'lambdareg': 0}\n",
      "->  {'learning_rate': 0.7, 'alpha': 0.2, 'lambdareg': 0.0001}\n",
      "->  {'learning_rate': 0.7, 'alpha': 0.2, 'lambdareg': 0.001}\n",
      "->  {'learning_rate': 0.7, 'alpha': 0.3, 'lambdareg': 0}\n",
      "->  {'learning_rate': 0.7, 'alpha': 0.3, 'lambdareg': 0.0001}\n",
      "->  {'learning_rate': 0.7, 'alpha': 0.3, 'lambdareg': 0.001}\n",
      "->  {'learning_rate': 0.7, 'alpha': 0.4, 'lambdareg': 0}\n",
      "->  {'learning_rate': 0.7, 'alpha': 0.4, 'lambdareg': 0.0001}\n",
      "->  {'learning_rate': 0.7, 'alpha': 0.4, 'lambdareg': 0.001}\n",
      "->  {'learning_rate': 0.7, 'alpha': 0.5, 'lambdareg': 0}\n",
      "->  {'learning_rate': 0.7, 'alpha': 0.5, 'lambdareg': 0.0001}\n",
      "->  {'learning_rate': 0.7, 'alpha': 0.5, 'lambdareg': 0.001}\n",
      "->  {'learning_rate': 0.8, 'alpha': 0.1, 'lambdareg': 0}\n",
      "->  {'learning_rate': 0.8, 'alpha': 0.1, 'lambdareg': 0.0001}\n",
      "->  {'learning_rate': 0.8, 'alpha': 0.1, 'lambdareg': 0.001}\n",
      "->  {'learning_rate': 0.8, 'alpha': 0.2, 'lambdareg': 0}\n",
      "->  {'learning_rate': 0.8, 'alpha': 0.2, 'lambdareg': 0.0001}\n",
      "->  {'learning_rate': 0.8, 'alpha': 0.2, 'lambdareg': 0.001}\n",
      "->  {'learning_rate': 0.8, 'alpha': 0.3, 'lambdareg': 0}\n",
      "->  {'learning_rate': 0.8, 'alpha': 0.3, 'lambdareg': 0.0001}\n",
      "->  {'learning_rate': 0.8, 'alpha': 0.3, 'lambdareg': 0.001}\n",
      "->  {'learning_rate': 0.8, 'alpha': 0.4, 'lambdareg': 0}\n",
      "->  {'learning_rate': 0.8, 'alpha': 0.4, 'lambdareg': 0.0001}\n",
      "->  {'learning_rate': 0.8, 'alpha': 0.4, 'lambdareg': 0.001}\n",
      "->  {'learning_rate': 0.8, 'alpha': 0.5, 'lambdareg': 0}\n",
      "->  {'learning_rate': 0.8, 'alpha': 0.5, 'lambdareg': 0.0001}\n",
      "->  {'learning_rate': 0.8, 'alpha': 0.5, 'lambdareg': 0.001}\n",
      "->  {'learning_rate': 0.9, 'alpha': 0.1, 'lambdareg': 0}\n",
      "->  {'learning_rate': 0.9, 'alpha': 0.1, 'lambdareg': 0.0001}\n",
      "->  {'learning_rate': 0.9, 'alpha': 0.1, 'lambdareg': 0.001}\n",
      "->  {'learning_rate': 0.9, 'alpha': 0.2, 'lambdareg': 0}\n",
      "->  {'learning_rate': 0.9, 'alpha': 0.2, 'lambdareg': 0.0001}\n",
      "->  {'learning_rate': 0.9, 'alpha': 0.2, 'lambdareg': 0.001}\n",
      "->  {'learning_rate': 0.9, 'alpha': 0.3, 'lambdareg': 0}\n",
      "->  {'learning_rate': 0.9, 'alpha': 0.3, 'lambdareg': 0.0001}\n",
      "->  {'learning_rate': 0.9, 'alpha': 0.3, 'lambdareg': 0.001}\n",
      "->  {'learning_rate': 0.9, 'alpha': 0.4, 'lambdareg': 0}\n",
      "->  {'learning_rate': 0.9, 'alpha': 0.4, 'lambdareg': 0.0001}\n",
      "->  {'learning_rate': 0.9, 'alpha': 0.4, 'lambdareg': 0.001}\n",
      "->  {'learning_rate': 0.9, 'alpha': 0.5, 'lambdareg': 0}\n",
      "->  {'learning_rate': 0.9, 'alpha': 0.5, 'lambdareg': 0.0001}\n",
      "->  {'learning_rate': 0.9, 'alpha': 0.5, 'lambdareg': 0.001}\n",
      "->  {'learning_rate': 1, 'alpha': 0.1, 'lambdareg': 0}\n",
      "->  {'learning_rate': 1, 'alpha': 0.1, 'lambdareg': 0.0001}\n",
      "->  {'learning_rate': 1, 'alpha': 0.1, 'lambdareg': 0.001}\n",
      "->  {'learning_rate': 1, 'alpha': 0.2, 'lambdareg': 0}\n",
      "->  {'learning_rate': 1, 'alpha': 0.2, 'lambdareg': 0.0001}\n",
      "->  {'learning_rate': 1, 'alpha': 0.2, 'lambdareg': 0.001}\n",
      "->  {'learning_rate': 1, 'alpha': 0.3, 'lambdareg': 0}\n",
      "->  {'learning_rate': 1, 'alpha': 0.3, 'lambdareg': 0.0001}\n",
      "->  {'learning_rate': 1, 'alpha': 0.3, 'lambdareg': 0.001}\n",
      "->  {'learning_rate': 1, 'alpha': 0.4, 'lambdareg': 0}\n",
      "->  {'learning_rate': 1, 'alpha': 0.4, 'lambdareg': 0.0001}\n",
      "->  {'learning_rate': 1, 'alpha': 0.4, 'lambdareg': 0.001}\n",
      "->  {'learning_rate': 1, 'alpha': 0.5, 'lambdareg': 0}\n",
      "->  {'learning_rate': 1, 'alpha': 0.5, 'lambdareg': 0.0001}\n",
      "->  {'learning_rate': 1, 'alpha': 0.5, 'lambdareg': 0.001}\n"
     ]
    }
   ],
   "source": [
    "monk_3_params = {\n",
    "    \"learning_rate\": [0.1, 0.2, 0.3, 0.4, 0.5, 0.6, 0.7, 0.8, 0.9, 1],\n",
    "    \"alpha\": [0.1, 0.2, 0.3, 0.4, 0.5],\n",
    "    \"lambdareg\": [0, 0.0001, 0.001],\n",
    "    \"epochs\": 500,\n",
    "    \"batch_size\": \"full\"\n",
    "}\n",
    "\n",
    "monk_3_best_params = grid_search_cv(monk_3_build_model, (monk_3_X, monk_3_y), monk_3_params)\n",
    "monk_3_best_params_other, monk_3_best_params_training = split_train_params(monk_3_best_params)\n",
    "print(monk_3_best_params_other, monk_3_best_params_training)"
   ]
  },
  {
   "cell_type": "markdown",
   "metadata": {},
   "source": [
    "## Training (classic)"
   ]
  },
  {
   "cell_type": "code",
   "execution_count": null,
   "metadata": {},
   "outputs": [],
   "source": [
    "model = monk_3_build_model(**monk_3_best_params_other)\n",
    "history = model.training((monk_3_X, monk_3_y), **monk_3_best_params_training, verbose = True)\n",
    "\n",
    "plt.plot(history[\"loss_tr\"])\n",
    "plt.plot(history[\"loss_vl\"])\n",
    "plt.show()"
   ]
  },
  {
   "cell_type": "markdown",
   "metadata": {},
   "source": [
    "## Accuracy (classic)"
   ]
  },
  {
   "cell_type": "code",
   "execution_count": null,
   "metadata": {},
   "outputs": [],
   "source": [
    "print(f\"training accuracy:{model_accuracy(model, monk_3_X, monk_3_y)}\")\n",
    "print(f\"test accuracy:{model_accuracy(model, monk_3_test_x, monk_3_test_y)}\")"
   ]
  },
  {
   "cell_type": "markdown",
   "metadata": {},
   "source": [
    "## Grid Search (ELM)"
   ]
  },
  {
   "cell_type": "code",
   "execution_count": null,
   "metadata": {},
   "outputs": [],
   "source": [
    "monk_3_params = {\n",
    "    \"units\": [100, 200, 300, 400, 500, 600, 700, 800, 900, 1000],\n",
    "    \"lambda_\": [0.1, 1, 10, 20, 30, 40, 50, 60, 70, 80, 90, 100],\n",
    "}\n",
    "\n",
    "monk_3_best_params = grid_search_cv(randomized_nn_model_monk, (monk_3_X, monk_3_y), monk_3_params, k_folds=5, direct=True)\n",
    "monk_3_best_params_other, monk_3_best_params_training = split_train_params(monk_3_best_params, direct=True)\n",
    "print(monk_3_best_params_other, monk_3_best_params_training)"
   ]
  },
  {
   "cell_type": "markdown",
   "metadata": {},
   "source": [
    "## Training (ELM)"
   ]
  },
  {
   "cell_type": "code",
   "execution_count": null,
   "metadata": {},
   "outputs": [],
   "source": [
    "model = randomized_nn_model_monk(1000)\n",
    "error_tr, error_vl = model.direct_training((monk_3_X, monk_3_y), lambda_ = 0.1, verbose = True)"
   ]
  },
  {
   "cell_type": "markdown",
   "metadata": {},
   "source": [
    "## Accuracy (ELM)"
   ]
  },
  {
   "cell_type": "code",
   "execution_count": null,
   "metadata": {},
   "outputs": [],
   "source": [
    "print(f\"training accuracy: {model_accuracy(model, monk_3_X, monk_3_y, threshold = 0.5)}\")\n",
    "print(f\"test accuracy: {model_accuracy(model, monk_3_test_x, monk_3_test_y, threshold = 0.5)}\")"
   ]
  }
 ],
 "metadata": {
  "kernelspec": {
   "display_name": "Python 3",
   "language": "python",
   "name": "python3"
  },
  "language_info": {
   "codemirror_mode": {
    "name": "ipython",
    "version": 3
   },
   "file_extension": ".py",
   "mimetype": "text/x-python",
   "name": "python",
   "nbconvert_exporter": "python",
   "pygments_lexer": "ipython3",
   "version": "3.8.3"
  }
 },
 "nbformat": 4,
 "nbformat_minor": 4
}
